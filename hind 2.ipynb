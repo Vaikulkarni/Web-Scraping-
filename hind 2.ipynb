{
 "cells": [
  {
   "cell_type": "code",
   "execution_count": 1,
   "id": "45e3c1ff",
   "metadata": {},
   "outputs": [],
   "source": [
    "from bs4 import BeautifulSoup\n",
    "import requests\n",
    "import pandas as pd"
   ]
  },
  {
   "cell_type": "code",
   "execution_count": 2,
   "id": "ea439b71",
   "metadata": {},
   "outputs": [
    {
     "name": "stdout",
     "output_type": "stream",
     "text": [
      "Neutral Hindustan Zinc; target of Rs 370: Motilal Oswal\n"
     ]
    }
   ],
   "source": [
    "url = requests.get('https://www.moneycontrol.com/news/business/stocks/neutral-hindustan-zinc-target-of-rs-370-motilal-oswal-8409021.html')\n",
    "soup = BeautifulSoup(url.content,'lxml')\n",
    "\n",
    "headline = soup.find('h1', class_='article_title artTitle').text\n",
    "print(headline)\n"
   ]
  },
  {
   "cell_type": "code",
   "execution_count": 3,
   "id": "bc6720e5",
   "metadata": {},
   "outputs": [
    {
     "name": "stdout",
     "output_type": "stream",
     "text": [
      "Motilal Oswal recommended Neutral rating on Hindustan Zinc with a target price of Rs 370 in its research report dated April 23, 2022.\n"
     ]
    }
   ],
   "source": [
    "sub_headline = soup.find('h2', class_='article_desc').text\n",
    "print(sub_headline)"
   ]
  },
  {
   "cell_type": "code",
   "execution_count": 4,
   "id": "9a0ea87f",
   "metadata": {},
   "outputs": [
    {
     "name": "stdout",
     "output_type": "stream",
     "text": [
      " April 25, 2022 / 10:08 PM IST  \n",
      "April 25, 2022\n",
      "10:08 PM\n"
     ]
    }
   ],
   "source": [
    "datentime=str(soup.find('div', class_='article_schedule').text)\n",
    "print(datentime)\n",
    "datet= datentime.split()\n",
    "date = datet[0] + \" \"+datet[1]+\" \"+ datet[2]\n",
    "print(date)\n",
    "\n",
    "time = datet[4]+\" \"+datet[5]\n",
    "print(time)"
   ]
  },
  {
   "cell_type": "code",
   "execution_count": 6,
   "id": "09c307d9",
   "metadata": {},
   "outputs": [
    {
     "name": "stdout",
     "output_type": "stream",
     "text": [
      "                        \n",
      "                                                                                          Broker Research\n",
      "                                          \n",
      "      \n",
      "      \n"
     ]
    }
   ],
   "source": [
    "author = soup.find('div', class_='article_author').text\n",
    "print(author)"
   ]
  },
  {
   "cell_type": "code",
   "execution_count": null,
   "id": "f3be73c1",
   "metadata": {},
   "outputs": [],
   "source": [
    "parent=soup.find(\"div \",class_=\"\")\n",
    "\n",
    "paragraphs=parent.find(\"p\") \n",
    "empty_string=\"\";\n",
    "for k in paragraphs:\n",
    "    empty_string=k.text\n",
    "    artical=empty_string\n",
    "print(article)"
   ]
  }
 ],
 "metadata": {
  "kernelspec": {
   "display_name": "Python 3 (ipykernel)",
   "language": "python",
   "name": "python3"
  },
  "language_info": {
   "codemirror_mode": {
    "name": "ipython",
    "version": 3
   },
   "file_extension": ".py",
   "mimetype": "text/x-python",
   "name": "python",
   "nbconvert_exporter": "python",
   "pygments_lexer": "ipython3",
   "version": "3.10.4"
  }
 },
 "nbformat": 4,
 "nbformat_minor": 5
}
